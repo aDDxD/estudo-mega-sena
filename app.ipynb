{
 "cells": [
  {
   "cell_type": "code",
   "execution_count": 321,
   "metadata": {},
   "outputs": [],
   "source": [
    "import pandas as pd\n",
    "import numpy as np\n",
    "import random"
   ]
  },
  {
   "cell_type": "code",
   "execution_count": 322,
   "metadata": {},
   "outputs": [],
   "source": [
    "# Loading Data from csv\n",
    "\n",
    "df = pd.read_csv(\"data.csv\")"
   ]
  },
  {
   "cell_type": "code",
   "execution_count": 323,
   "metadata": {},
   "outputs": [],
   "source": [
    "# Creating an array of each result\n",
    "\n",
    "results_array = df[[\"Dezena 1\", \"Dezena 2\", \"Dezena 3\", \"Dezena 4\", \"Dezena 5\", \"Dezena 6\"]].to_numpy()"
   ]
  },
  {
   "cell_type": "code",
   "execution_count": 324,
   "metadata": {},
   "outputs": [
    {
     "data": {
      "text/plain": [
       "[0    1\n",
       " Name: Dezena 1, dtype: int64,\n",
       " 0    16\n",
       " Name: Dezena 2, dtype: int64,\n",
       " 0    28\n",
       " Name: Dezena 3, dtype: int64,\n",
       " 0    37\n",
       " Name: Dezena 4, dtype: int64,\n",
       " 0    42\n",
       " Name: Dezena 5, dtype: int64,\n",
       " 0    60\n",
       " Name: Dezena 6, dtype: int64]"
      ]
     },
     "execution_count": 324,
     "metadata": {},
     "output_type": "execute_result"
    }
   ],
   "source": [
    "# Simple check of most frequent numbers\n",
    "mode_list = []\n",
    "\n",
    "mode_list.append(df[\"Dezena 1\"].mode())\n",
    "mode_list.append(df[\"Dezena 2\"].mode())\n",
    "mode_list.append(df[\"Dezena 3\"].mode())\n",
    "mode_list.append(df[\"Dezena 4\"].mode())\n",
    "mode_list.append(df[\"Dezena 5\"].mode())\n",
    "mode_list.append(df[\"Dezena 6\"].mode())\n",
    "\n",
    "mode_list"
   ]
  },
  {
   "cell_type": "code",
   "execution_count": 325,
   "metadata": {},
   "outputs": [],
   "source": [
    "# Function to generate random game and check if exists in results\n",
    "\n",
    "def generate_random_game() -> list:\n",
    "    randomList = []\n",
    "\n",
    "    while len(randomList) < 6:\n",
    "        r=random.randint(1,60)\n",
    "        if r not in randomList:\n",
    "            # appending the random number to the resultant list, if the condition is true\n",
    "            randomList.append(r)\n",
    "\n",
    "    randomList.sort()\n",
    "\n",
    "    return randomList"
   ]
  },
  {
   "cell_type": "code",
   "execution_count": 326,
   "metadata": {},
   "outputs": [],
   "source": [
    "# Function that converts the numpy array to a list of lists to be compared with the generated game\n",
    "def convert_array_to_list_of_lists(results: np.array) -> list:\n",
    "    list_of_lists = list()\n",
    "    for result in results:\n",
    "        list_of_lists.append(list(result))\n",
    "\n",
    "    return list_of_lists"
   ]
  },
  {
   "cell_type": "code",
   "execution_count": 327,
   "metadata": {},
   "outputs": [],
   "source": [
    "# Function to generate a random unic list of numbers from 1 to 60 without repeating\n",
    "def generate_games_to_do(number_of_games: int, results_list: list) -> list:\n",
    "    counter = 0\n",
    "    games_list = []\n",
    "\n",
    "    while counter < number_of_games:\n",
    "        game = generate_random_game()\n",
    "        if game not in results_list:\n",
    "            games_list.append(game)\n",
    "            print(game)\n",
    "            counter += 1\n",
    "        else:\n",
    "            pass\n",
    "    \n",
    "    return games_list"
   ]
  },
  {
   "cell_type": "code",
   "execution_count": 328,
   "metadata": {},
   "outputs": [],
   "source": [
    "# Function just to see how many tries the random takes to find a game that already won\n",
    "def find_game_that_already_won(results_list: list) -> list:\n",
    "    counter = 0\n",
    "    already_won = False\n",
    "\n",
    "    while already_won == False:\n",
    "        game = generate_random_game()\n",
    "        if game not in results_list:\n",
    "            counter += 1\n",
    "        else:\n",
    "            print(f\"The result {game} already won. Game found after {counter} tries\")\n",
    "            already_won = True\n",
    "            pass\n",
    "    \n",
    "    return None"
   ]
  },
  {
   "cell_type": "code",
   "execution_count": 329,
   "metadata": {},
   "outputs": [
    {
     "name": "stdout",
     "output_type": "stream",
     "text": [
      "The result [4, 12, 19, 33, 36, 38] already won. Game found after 22446 tries\n"
     ]
    }
   ],
   "source": [
    "# Se already won game\n",
    "results = convert_array_to_list_of_lists(results_array)\n",
    "find_game_that_already_won(results)"
   ]
  },
  {
   "cell_type": "code",
   "execution_count": 330,
   "metadata": {},
   "outputs": [
    {
     "name": "stdout",
     "output_type": "stream",
     "text": [
      "[4, 12, 30, 49, 54, 57]\n",
      "[10, 15, 26, 27, 42, 54]\n",
      "[6, 13, 17, 35, 43, 48]\n",
      "[8, 19, 22, 29, 36, 37]\n",
      "[5, 23, 30, 31, 41, 52]\n",
      "[6, 14, 21, 50, 57, 60]\n",
      "[12, 38, 40, 42, 43, 52]\n",
      "[3, 8, 18, 32, 40, 47]\n",
      "[7, 19, 27, 34, 45, 52]\n",
      "[9, 11, 28, 49, 53, 58]\n",
      "[16, 19, 27, 29, 54, 55]\n",
      "[1, 11, 18, 20, 41, 42]\n",
      "[5, 43, 46, 47, 52, 57]\n",
      "[16, 30, 31, 37, 39, 57]\n",
      "[19, 20, 41, 45, 46, 58]\n",
      "[10, 13, 20, 29, 31, 53]\n",
      "[6, 22, 23, 26, 31, 34]\n",
      "[4, 12, 14, 19, 26, 46]\n",
      "[7, 13, 22, 23, 31, 60]\n"
     ]
    }
   ],
   "source": [
    "# Generate list of games that never won to try\n",
    "results = convert_array_to_list_of_lists(results_array)\n",
    "games = generate_games_to_do(19, results)"
   ]
  }
 ],
 "metadata": {
  "kernelspec": {
   "display_name": "Python 3",
   "language": "python",
   "name": "python3"
  },
  "language_info": {
   "codemirror_mode": {
    "name": "ipython",
    "version": 3
   },
   "file_extension": ".py",
   "mimetype": "text/x-python",
   "name": "python",
   "nbconvert_exporter": "python",
   "pygments_lexer": "ipython3",
   "version": "3.8.10"
  },
  "orig_nbformat": 4,
  "vscode": {
   "interpreter": {
    "hash": "916dbcbb3f70747c44a77c7bcd40155683ae19c65e1c03b4aa3499c5328201f1"
   }
  }
 },
 "nbformat": 4,
 "nbformat_minor": 2
}
